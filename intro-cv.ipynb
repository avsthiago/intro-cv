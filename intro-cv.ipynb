{
 "cells": [
  {
   "cell_type": "code",
   "execution_count": null,
   "id": "04052655",
   "metadata": {},
   "outputs": [],
   "source": [
    "import cv2\n",
    "import matplotlib.pyplot as plt\n",
    "import numpy as np"
   ]
  },
  {
   "cell_type": "code",
   "execution_count": null,
   "id": "e0958c7e",
   "metadata": {},
   "outputs": [],
   "source": [
    "def show(img):\n",
    "    plt.imshow(img)\n",
    "    plt.show()"
   ]
  },
  {
   "cell_type": "code",
   "execution_count": null,
   "id": "b6119ed2",
   "metadata": {},
   "outputs": [],
   "source": [
    "image = cv2.imread(\"resources/opencv.jpg\")"
   ]
  },
  {
   "cell_type": "code",
   "execution_count": null,
   "id": "7d81ae06",
   "metadata": {},
   "outputs": [],
   "source": [
    "plt.imshow(image)\n",
    "plt.show()"
   ]
  },
  {
   "cell_type": "code",
   "execution_count": null,
   "id": "6c67b879",
   "metadata": {},
   "outputs": [],
   "source": [
    "im_gray = cv2.cvtColor(image, cv2.COLOR_RGB2GRAY)"
   ]
  },
  {
   "cell_type": "code",
   "execution_count": null,
   "id": "78355bc7",
   "metadata": {},
   "outputs": [],
   "source": [
    "plt.imshow(im_gray, cmap='gray', vmin=0, vmax=255)\n",
    "plt.show()"
   ]
  },
  {
   "cell_type": "code",
   "execution_count": null,
   "id": "f63556f5",
   "metadata": {},
   "outputs": [],
   "source": [
    "im_doge = cv2.imread(\"resources/doge.jpg\")\n",
    "im_doge = cv2.cvtColor(im_doge, cv2.COLOR_BGR2RGB)"
   ]
  },
  {
   "cell_type": "code",
   "execution_count": null,
   "id": "142186b2",
   "metadata": {},
   "outputs": [],
   "source": [
    "plt.imshow(im_doge)\n",
    "plt.show()"
   ]
  },
  {
   "cell_type": "code",
   "execution_count": null,
   "id": "bf8ae0df",
   "metadata": {},
   "outputs": [],
   "source": [
    "kernel = np.ones((8,8),np.float32)/64\n",
    "doge_blurred = cv2.filter2D(im_doge, -1, kernel)\n",
    "plt.imshow(doge_blurred)\n",
    "plt.show()"
   ]
  },
  {
   "cell_type": "code",
   "execution_count": null,
   "id": "92a5d3cd",
   "metadata": {},
   "outputs": [],
   "source": [
    "kernel = np.ones((1,8),np.float32)/8\n",
    "doge_blurred = cv2.filter2D(im_doge, -1, kernel)\n",
    "plt.imshow(doge_blurred)\n",
    "plt.show()"
   ]
  },
  {
   "cell_type": "code",
   "execution_count": null,
   "id": "827d0e44",
   "metadata": {},
   "outputs": [],
   "source": [
    "gaussian_doge = cv2.GaussianBlur(im_doge, (5,5), 0)\n",
    "show(gaussian_doge)"
   ]
  },
  {
   "cell_type": "markdown",
   "id": "82b8c547",
   "metadata": {},
   "source": [
    "### Billateral"
   ]
  },
  {
   "cell_type": "code",
   "execution_count": null,
   "id": "73c177ed",
   "metadata": {},
   "outputs": [],
   "source": [
    "doge_billateral = cv2.bilateralFilter(im_doge, 9,100,100)\n",
    "show(doge_billateral)"
   ]
  },
  {
   "cell_type": "markdown",
   "id": "4f5f0bec",
   "metadata": {},
   "source": [
    "### Text"
   ]
  },
  {
   "cell_type": "code",
   "execution_count": null,
   "id": "56ba70ea",
   "metadata": {},
   "outputs": [],
   "source": [
    "doge_no_text = cv2.imread(\"resources/doge.jpg\")\n",
    "doge_no_text = cv2.cvtColor(doge_no_text, cv2.COLOR_BGR2RGB)"
   ]
  },
  {
   "cell_type": "code",
   "execution_count": null,
   "id": "5a4f7f09",
   "metadata": {},
   "outputs": [],
   "source": [
    "position = (10,50)\n",
    "doge_with_text = cv2.putText(doge_no_text,\n",
    "                             \"Much text\", position, cv2.FONT_HERSHEY_SIMPLEX,\n",
    "                             1, (0, 255, 0), 1)"
   ]
  },
  {
   "cell_type": "code",
   "execution_count": null,
   "id": "bf0a6146",
   "metadata": {},
   "outputs": [],
   "source": [
    "show(doge_with_text)"
   ]
  },
  {
   "cell_type": "markdown",
   "id": "f7f3d9b1",
   "metadata": {},
   "source": [
    "### HSV"
   ]
  },
  {
   "cell_type": "code",
   "execution_count": null,
   "id": "63caa3f6",
   "metadata": {},
   "outputs": [],
   "source": [
    "doge_no_hsv = cv2.imread(\"resources/doge.jpg\", -1)\n",
    "doge_hsv = cv2.cvtColor(doge_no_hsv, cv2.COLOR_BGR2HSV)"
   ]
  },
  {
   "cell_type": "code",
   "execution_count": null,
   "id": "da85298a",
   "metadata": {},
   "outputs": [],
   "source": [
    "show(doge_hsv)"
   ]
  },
  {
   "cell_type": "code",
   "execution_count": null,
   "id": "c04f4b42",
   "metadata": {},
   "outputs": [],
   "source": [
    "lower_blue = np.array([110,0,0])\n",
    "upper_blue = np.array([150,255,255])"
   ]
  },
  {
   "cell_type": "code",
   "execution_count": null,
   "id": "4512409b",
   "metadata": {},
   "outputs": [],
   "source": [
    "mask = cv2.inRange(doge_hsv, lower_blue, upper_blue)"
   ]
  },
  {
   "cell_type": "code",
   "execution_count": null,
   "id": "c09deef9",
   "metadata": {},
   "outputs": [],
   "source": [
    "mask = mask * 255\n",
    "\n",
    "show(mask)"
   ]
  },
  {
   "cell_type": "code",
   "execution_count": null,
   "id": "e429f695",
   "metadata": {},
   "outputs": [],
   "source": [
    "np.unique(mask)"
   ]
  },
  {
   "cell_type": "code",
   "execution_count": null,
   "id": "ed259a9c",
   "metadata": {},
   "outputs": [],
   "source": [
    "\n",
    "    \n",
    "    # Threshold the HSV image to get only blue colors\n",
    "\n",
    "    # Bitwise-AND mask and original image\n",
    "    res = cv.bitwise_and(frame,frame, mask= mask)\n",
    "    cv.imshow('frame',frame)\n",
    "    cv.imshow('mask',mask)\n",
    "    cv.imshow('res',res)\n",
    "    k = cv.waitKey(5) & 0xFF\n",
    "    if k == 27:\n",
    "        break"
   ]
  }
 ],
 "metadata": {
  "kernelspec": {
   "display_name": "introcv",
   "language": "python",
   "name": "introcv"
  },
  "language_info": {
   "codemirror_mode": {
    "name": "ipython",
    "version": 3
   },
   "file_extension": ".py",
   "mimetype": "text/x-python",
   "name": "python",
   "nbconvert_exporter": "python",
   "pygments_lexer": "ipython3",
   "version": "3.7.11"
  }
 },
 "nbformat": 4,
 "nbformat_minor": 5
}
